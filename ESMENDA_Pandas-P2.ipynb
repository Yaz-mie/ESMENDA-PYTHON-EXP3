{
 "cells": [
  {
   "cell_type": "code",
   "execution_count": 1,
   "id": "a43cd0c4-5eb7-40e5-bbe7-2d98eaa7a204",
   "metadata": {},
   "outputs": [],
   "source": [
    "import pandas as pd\n",
    "\n",
    "cars = pd.read_csv(\"Cars.csv\") #filename "
   ]
  },
  {
   "cell_type": "code",
   "execution_count": 2,
   "id": "b9518aa1-c792-4d95-aaf4-9d30c7e2143b",
   "metadata": {},
   "outputs": [
    {
     "name": "stdout",
     "output_type": "stream",
     "text": [
      "               Model  cyl   hp     wt  vs  gear\n",
      "0          Mazda RX4    6  110  2.620   0     4\n",
      "1      Mazda RX4 Wag    6  110  2.875   0     4\n",
      "2         Datsun 710    4   93  2.320   1     4\n",
      "3     Hornet 4 Drive    6  110  3.215   1     3\n",
      "4  Hornet Sportabout    8  175  3.440   0     3\n"
     ]
    }
   ],
   "source": [
    "#Display first five rows with odd-numbered columns\n",
    "print(cars.iloc[0:5, ::2])"
   ]
  },
  {
   "cell_type": "code",
   "execution_count": 3,
   "id": "b401c89d-4506-4733-ab0e-a7a518e8d549",
   "metadata": {},
   "outputs": [
    {
     "name": "stdout",
     "output_type": "stream",
     "text": [
      "       Model   mpg  cyl   disp   hp  drat    wt   qsec  vs  am  gear  carb\n",
      "0  Mazda RX4  21.0    6  160.0  110   3.9  2.62  16.46   0   1     4     4\n"
     ]
    }
   ],
   "source": [
    "#Row containing model 'Mazda RX4'\n",
    "print(cars[cars[\"Model\"] == \"Mazda RX4\"])"
   ]
  },
  {
   "cell_type": "code",
   "execution_count": 4,
   "id": "03efb3f1-7a2e-4ced-9972-dd80d7fc71af",
   "metadata": {},
   "outputs": [
    {
     "name": "stdout",
     "output_type": "stream",
     "text": [
      "             Model  cyl  gear\n",
      "1    Mazda RX4 Wag    6     4\n",
      "18     Honda Civic    4     4\n",
      "28  Ford Pantera L    8     5\n"
     ]
    }
   ],
   "source": [
    "#Cylinders and gear type of multiple models\n",
    "models = [\"Mazda RX4 Wag\", \"Ford Pantera L\", \"Honda Civic\"]\n",
    "print(cars.loc[cars[\"Model\"].isin(models), [\"Model\", \"cyl\", \"gear\"]])"
   ]
  }
 ],
 "metadata": {
  "kernelspec": {
   "display_name": "Python 3 (ipykernel)",
   "language": "python",
   "name": "python3"
  },
  "language_info": {
   "codemirror_mode": {
    "name": "ipython",
    "version": 3
   },
   "file_extension": ".py",
   "mimetype": "text/x-python",
   "name": "python",
   "nbconvert_exporter": "python",
   "pygments_lexer": "ipython3",
   "version": "3.13.5"
  }
 },
 "nbformat": 4,
 "nbformat_minor": 5
}
